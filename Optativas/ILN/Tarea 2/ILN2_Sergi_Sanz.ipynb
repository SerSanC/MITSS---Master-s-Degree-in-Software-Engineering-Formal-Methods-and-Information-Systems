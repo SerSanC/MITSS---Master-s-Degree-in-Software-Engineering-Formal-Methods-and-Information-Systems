{
 "cells": [
  {
   "cell_type": "markdown",
   "metadata": {},
   "source": [
    "# ILN 2: POS Tagging"
   ]
  },
  {
   "cell_type": "raw",
   "metadata": {},
   "source": [
    "Evaluación de etiquetadores de n-gramas sobre el corpus treebank utilizando el método de validación cruzada: 10% de frases de test y el resto de entrenamiento,validando sobre 10 particiones diferentes. Considera los modelos: unigramas, bigramas y bigramas con backoff."
   ]
  },
  {
   "cell_type": "raw",
   "metadata": {},
   "source": [
    "(a) Busca la etiqueta POS más frecuente en el corpus para construir un etiquetador por defecto: siempre asocia la etiqueta más frecuente en el corpus"
   ]
  },
  {
   "cell_type": "code",
   "execution_count": 1,
   "metadata": {},
   "outputs": [
    {
     "name": "stderr",
     "output_type": "stream",
     "text": [
      "[nltk_data] Downloading package treebank to\n",
      "[nltk_data]     /Users/sergisanz/nltk_data...\n",
      "[nltk_data]   Package treebank is already up-to-date!\n"
     ]
    },
    {
     "name": "stdout",
     "output_type": "stream",
     "text": [
      "NOUN\n"
     ]
    }
   ],
   "source": [
    "import pprint\n",
    "import nltk\n",
    "import matplotlib.pylab as plt\n",
    "from nltk.tag import UnigramTagger, BigramTagger, TrigramTagger\n",
    "from nltk.corpus import treebank\n",
    "\n",
    "nltk.download('treebank')\n",
    "\n",
    "tag_fd = nltk.FreqDist(tag for (word, tag) in treebank.tagged_words(tagset = 'universal')).max()\n",
    "print(tag_fd)\n"
   ]
  },
  {
   "cell_type": "raw",
   "metadata": {},
   "source": [
    "(b) Escribe código para realizar la validación sobre 10 particiones: Cada partición usa como test un 10% de las frases diferente en cada caso y el resto de frases conforman el conjunto de prueba. Se suman las tasas de acierto en cada modelo en cada partición y se promedia (validación cruzada)"
   ]
  },
  {
   "cell_type": "code",
   "execution_count": 13,
   "metadata": {},
   "outputs": [
    {
     "name": "stderr",
     "output_type": "stream",
     "text": [
      "[nltk_data] Downloading package treebank to\n",
      "[nltk_data]     /Users/sergisanz/nltk_data...\n",
      "[nltk_data]   Package treebank is already up-to-date!\n"
     ]
    },
    {
     "name": "stdout",
     "output_type": "stream",
     "text": [
      "Tasas de acierto de los distintos modelos:\n",
      "**************************************************\n",
      "Bigramas - backoff:  75.19675 %\n",
      "Bigramas:            5.216710 %\n",
      "Unigramas            74.80406 %\n"
     ]
    }
   ],
   "source": [
    "import pprint\n",
    "import nltk\n",
    "import matplotlib.pylab as plt\n",
    "from nltk.tag import UnigramTagger, BigramTagger, TrigramTagger,DefaultTagger\n",
    "from nltk.corpus import treebank\n",
    "from nltk.probability import FreqDist\n",
    "import random\n",
    "\n",
    "nltk.download('treebank')\n",
    "\n",
    "# Se crean 10 particiones, y cada partición esta compuesta por una lista, por tanto será necesario recorrerla \n",
    "# para calcular las tasas de acierto para cada uno de los tres modelos\n",
    "\n",
    "#random.seed(1000)\n",
    "\n",
    "frases = treebank.tagged_sents(tagset='universal')\n",
    "frasesAleatoria = [frases[i] for i in random.sample(range(0, len(frases)), len(frases))  ]\n",
    "\n",
    "particiones = zip(*[iter(frasesAleatoria)]*int(len(frasesAleatoria)/10))\n",
    "\n",
    "#Necesario, sino se crea una variable local en cada iteración del bucle\n",
    "SumUnigrama = 0\n",
    "SumBigrama = 0\n",
    "SumBigramaBackoff = 0\n",
    "\n",
    "# Etiquetador\n",
    "etiquetadorDefecto = DefaultTagger(tag_fd)\n",
    "\n",
    "for lista in particiones:\n",
    "\n",
    "    numElementos = int(len(lista) * 0.9)\n",
    "    muestrasTraining = lista[:numElementos]\n",
    "    muestrasTest = lista[numElementos:]\n",
    "    \n",
    "    unigram_tagger = UnigramTagger(muestrasTraining)\n",
    "    bigram_tagger = BigramTagger(muestrasTraining)\n",
    "    backoff_tagger = BigramTagger(muestrasTraining, backoff= unigram_tagger)\n",
    "\n",
    "\n",
    "    unigrama = unigram_tagger.evaluate(muestrasTest) * 100\n",
    "    bigrama = bigram_tagger.evaluate(muestrasTest) * 100\n",
    "    \n",
    "    bigramaBackoff = backoff_tagger.evaluate(muestrasTest) * 100\n",
    "    \n",
    "    SumUnigrama += unigrama\n",
    "    SumBigrama += bigrama\n",
    "    SumBigramaBackoff += bigramaBackoff\n",
    "\n",
    "print(\"Tasas de acierto de los distintos modelos:\"+\"\\n\"+\"*\"*50)  \n",
    "print(\"{:<20} {:<5.5f} \".format(\"Bigramas - backoff:\", SumBigramaBackoff/10) + \"%\")\n",
    "print(\"{:<20} {:<5.6f} \".format(\"Bigramas:\" ,SumBigrama/10) + \"%\")\n",
    "print(\"{:<20} {:<5.5f} \".format(\"Unigramas\",SumUnigrama/10) + \"%\")"
   ]
  },
  {
   "cell_type": "raw",
   "metadata": {},
   "source": [
    "(c) Escribe código para etiquetar la frase \"Are you exaggerating or have you got the wrong figures?\"  utilizando los tres modelos aprendidos. "
   ]
  },
  {
   "cell_type": "code",
   "execution_count": 23,
   "metadata": {},
   "outputs": [
    {
     "name": "stdout",
     "output_type": "stream",
     "text": [
      "Unigrama:\n",
      "\n",
      "[('Are', 'NOUN'),\n",
      " ('you', 'PRON'),\n",
      " ('exaggerating', 'NOUN'),\n",
      " ('or', 'CONJ'),\n",
      " ('have', 'VERB'),\n",
      " ('you', 'PRON'),\n",
      " ('got', 'NOUN'),\n",
      " ('the', 'DET'),\n",
      " ('wrong', 'NOUN'),\n",
      " ('figures', 'NOUN'),\n",
      " ('?', '.')]\n",
      "\n",
      "Bigrama:\n",
      "\n",
      "[('Are', None),\n",
      " ('you', None),\n",
      " ('exaggerating', None),\n",
      " ('or', None),\n",
      " ('have', None),\n",
      " ('you', None),\n",
      " ('got', None),\n",
      " ('the', None),\n",
      " ('wrong', None),\n",
      " ('figures', None),\n",
      " ('?', None)]\n",
      "\n",
      "Bigrama Backoff:\n",
      "\n",
      "[('Are', 'NOUN'),\n",
      " ('you', 'PRON'),\n",
      " ('exaggerating', 'NOUN'),\n",
      " ('or', 'CONJ'),\n",
      " ('have', 'VERB'),\n",
      " ('you', 'PRON'),\n",
      " ('got', 'NOUN'),\n",
      " ('the', 'DET'),\n",
      " ('wrong', 'NOUN'),\n",
      " ('figures', 'NOUN'),\n",
      " ('?', '.')]\n"
     ]
    }
   ],
   "source": [
    "from nltk.tokenize import word_tokenize\n",
    "fraseAnalisis = \"Are you exaggerating or have you got the wrong figures?\"\n",
    "\n",
    "frase = word_tokenize(fraseAnalisis)\n",
    "\n",
    "bigrama = bigram_tagger.tag(frase)\n",
    "bigramaBackoff = backoff_tagger.tag(frase)\n",
    "unigrama = unigram_tagger.tag(frase)\n",
    "\n",
    "print(\"Unigrama:\\n\")\n",
    "pprint.pprint(unigrama)\n",
    "print(\"\\nBigrama:\\n\")\n",
    "pprint.pprint(bigrama)\n",
    "print(\"\\nBigrama Backoff:\\n\")\n",
    "pprint.pprint(bigramaBackoff)"
   ]
  },
  {
   "cell_type": "code",
   "execution_count": null,
   "metadata": {},
   "outputs": [],
   "source": []
  }
 ],
 "metadata": {
  "anaconda-cloud": {},
  "kernelspec": {
   "display_name": "Python 3",
   "language": "python",
   "name": "python3"
  },
  "language_info": {
   "codemirror_mode": {
    "name": "ipython",
    "version": 3
   },
   "file_extension": ".py",
   "mimetype": "text/x-python",
   "name": "python",
   "nbconvert_exporter": "python",
   "pygments_lexer": "ipython3",
   "version": "3.7.4"
  }
 },
 "nbformat": 4,
 "nbformat_minor": 1
}
