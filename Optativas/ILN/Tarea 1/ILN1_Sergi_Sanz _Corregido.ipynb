{
 "cells": [
  {
   "cell_type": "markdown",
   "metadata": {},
   "source": [
    "# ILN1: Índices de legibilidad de los textos del corpus Brown "
   ]
  },
  {
   "cell_type": "raw",
   "metadata": {},
   "source": [
    "Para medir la dificultad de lectura de un texto se definen ciertas medidas de legibilidad; de este modo se pueden seleccionar los textos más adecuados según el nivel de conocimiento de la lengua que tenga el lector.\n",
    "\n",
    "Sea nlpw el número medio de letras por palabras y npxf el número medio de palabras por frase de un texto; suponiendo definido el Índice Automático de Legibilidad IAL del texto como:\n",
    "\n",
    "IAL = 4.71 * nlpw + 0.5 * npxf - 21.43\n",
    "\n",
    "Se pide escribir un programa python para calcular el valor de IAL para las diferentes secciones, o categorías, del Corpus Brown y mostrar una tabla en la que figuren todas las categorías y sus IALs."
   ]
  },
  {
   "cell_type": "raw",
   "metadata": {},
   "source": [
    "Escribe el código python y ejecútalo:"
   ]
  },
  {
   "cell_type": "code",
   "execution_count": 6,
   "metadata": {},
   "outputs": [
    {
     "name": "stdout",
     "output_type": "stream",
     "text": [
      "Categoria       IAL            \n",
      "---------------------------\n",
      "Adventure       4.084\n",
      "Belles_lettres  10.988\n",
      "Editorial       9.471\n",
      "Fiction         4.910\n",
      "Government      12.084\n",
      "Hobbies         8.922\n",
      "Humor           7.888\n",
      "Learned         11.926\n",
      "Lore            10.255\n",
      "Mystery         3.834\n",
      "News            10.177\n",
      "Religion        10.203\n",
      "Reviews         10.770\n",
      "Romance         4.349\n",
      "Science_fiction 4.978\n"
     ]
    }
   ],
   "source": [
    "import plotly.graph_objects as go\n",
    "import nltk\n",
    "from nltk.corpus import brown\n",
    "\n",
    "print(\"{:<15} {:<15}\".format(\"Categoria\",\"IAL\"))\n",
    "print(\"---------------------------\")\n",
    "\n",
    "for categoria in brown.categories(): \n",
    "    palabras = []\n",
    "    palabrasFrase = []\n",
    "    \n",
    "    for frases in brown.sents(categories = categoria):\n",
    "        \n",
    "        palabrasFrase.append(len(frases))\n",
    "\n",
    "    for palabra_texto in brown.words(categories = categoria):\n",
    "        \n",
    "        palabras.append(len(palabra_texto))\n",
    "            \n",
    "    \n",
    "    npxf = sum(palabrasFrase)/len(palabrasFrase)\n",
    "    nlpw = sum(palabras)/len(palabras)\n",
    "    \n",
    "    IAL = (4.71 * nlpw) + (0.5 * npxf - 21.43)\n",
    "    \n",
    "    print(\"{:<15} {:<5.3f}\".format(categoria.capitalize() , IAL))\n",
    "\n"
   ]
  },
  {
   "cell_type": "code",
   "execution_count": null,
   "metadata": {},
   "outputs": [],
   "source": []
  },
  {
   "cell_type": "code",
   "execution_count": null,
   "metadata": {},
   "outputs": [],
   "source": []
  }
 ],
 "metadata": {
  "kernelspec": {
   "display_name": "Python 3",
   "language": "python",
   "name": "python3"
  },
  "language_info": {
   "codemirror_mode": {
    "name": "ipython",
    "version": 3
   },
   "file_extension": ".py",
   "mimetype": "text/x-python",
   "name": "python",
   "nbconvert_exporter": "python",
   "pygments_lexer": "ipython3",
   "version": "3.7.4"
  }
 },
 "nbformat": 4,
 "nbformat_minor": 1
}
