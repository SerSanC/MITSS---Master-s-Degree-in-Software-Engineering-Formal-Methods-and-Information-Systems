{
 "cells": [
  {
   "cell_type": "markdown",
   "metadata": {},
   "source": [
    "# ILN3: WSD. El Algoritmo de Lesk"
   ]
  },
  {
   "cell_type": "raw",
   "metadata": {},
   "source": [
    "Se trata de definir y usar una función que, dada una frase y utilizando el algoritmo de Lesk, desambigüe cada una de sus palabras con contenido. La signatura se construirá considerando la definición y los ejemplos de cada synset."
   ]
  },
  {
   "cell_type": "raw",
   "metadata": {},
   "source": [
    "1.- Definir la función wsd que dada una frase y usando el algoritmo de Lesk muestre por pantalla el resultado de la desambiguación de cada una de sus palabras. \n",
    "Para ello, para cada palabra de la frase w y para cada sentido syn de w, sin considerar las stopwords, se debe computar el\n",
    "solapamiento, es decir, el número de palabras en común entre la definición y ejemplos del sentido syn y la frase. El syn que maximice este solapamiento será el asignado a la palabra w."
   ]
  },
  {
   "cell_type": "code",
   "execution_count": 30,
   "metadata": {},
   "outputs": [
    {
     "name": "stderr",
     "output_type": "stream",
     "text": [
      "[nltk_data] Downloading package wordnet to\n",
      "[nltk_data]     /Users/sergisanz/nltk_data...\n",
      "[nltk_data]   Package wordnet is already up-to-date!\n"
     ]
    }
   ],
   "source": [
    "import nltk\n",
    "nltk.download('wordnet')\n",
    "from nltk.corpus import wordnet\n",
    "from nltk.corpus import wordnet as wn\n",
    "from nltk.tokenize import word_tokenize as wt\n",
    "from nltk.corpus import stopwords as sw\n",
    "\n",
    "def wsd(frase):\n",
    "    listaPal = nltk.word_tokenize(frase)\n",
    "    corpus = nltk.corpus.stopwords.words('english')\n",
    "    palSig = []\n",
    "    for p in listaPal:\n",
    "        if p.lower() not in corpus:\n",
    "            palSig.append(p)\n",
    "                \n",
    "    for palabra in palSig:\n",
    "        sentido = wn.synsets(palabra)\n",
    "        mejorSentido = sentido[0]\n",
    "        solapeMaximo = 0\n",
    "        num_sentidos = len(wn.synsets(palabra))\n",
    "        \n",
    "        for sen in sentido:\n",
    "            \n",
    "            signatura = []\n",
    "            for frase in sen.examples():\n",
    "                for token in nltk.word_tokenize(frase):\n",
    "                    signatura.append(token)\n",
    "                    \n",
    "            sola = solape(signatura, palSig)\n",
    "            \n",
    "            if sola > solapeMaximo:\n",
    "                solapeMaximo = sola\n",
    "                mejorSentido = sentido\n",
    "        print(\"Analizando %s (%d sentidos) --> %s con solape %d\"\n",
    "              %(palabra,num_sentidos, wn.synsets(palabra)[0].name(), solapeMaximo))\n",
    "            \n",
    "# en esta funcion se realiza el calculo del solapamiento\n",
    "def solape(signatura, contexto):\n",
    "    cont = 0\n",
    "    for pal in signatura:\n",
    "        if pal in contexto:\n",
    "            cont=cont + 1\n",
    "    return cont             "
   ]
  },
  {
   "cell_type": "code",
   "execution_count": 31,
   "metadata": {},
   "outputs": [
    {
     "name": "stdout",
     "output_type": "stream",
     "text": [
      "Analizando heroes (7 sentidos) --> hero.n.01 con solape 1\n",
      "Analizando one (9 sentidos) --> one.n.01 con solape 3\n",
      "Analizando day (10 sentidos) --> day.n.01 con solape 3\n"
     ]
    }
   ],
   "source": [
    "wsd(\"We can be heroes just for one day\")"
   ]
  },
  {
   "cell_type": "raw",
   "metadata": {},
   "source": [
    "2.- Utilizar la función definida, wsd, sobre la frase \"I saw a man who is 98 years old and can still walk and tell jokes\""
   ]
  },
  {
   "cell_type": "code",
   "execution_count": 32,
   "metadata": {},
   "outputs": [
    {
     "name": "stdout",
     "output_type": "stream",
     "text": [
      "Analizando saw (28 sentidos) --> proverb.n.01 con solape 1\n",
      "Analizando man (13 sentidos) --> man.n.01 con solape 1\n",
      "Analizando 98 (1 sentidos) --> ninety-eight.s.01 con solape 0\n",
      "Analizando years (7 sentidos) --> old_age.n.01 con solape 2\n",
      "Analizando old (9 sentidos) --> old.n.01 con solape 6\n",
      "Analizando still (18 sentidos) --> still.n.01 con solape 3\n",
      "Analizando walk (17 sentidos) --> walk.n.01 con solape 1\n",
      "Analizando tell (9 sentidos) --> tell.n.01 con solape 2\n",
      "Analizando jokes (6 sentidos) --> joke.n.01 con solape 1\n"
     ]
    }
   ],
   "source": [
    "wsd(\"I saw a man who is 98 years old and can still walk and tell jokes\")"
   ]
  },
  {
   "cell_type": "code",
   "execution_count": null,
   "metadata": {},
   "outputs": [],
   "source": []
  }
 ],
 "metadata": {
  "anaconda-cloud": {},
  "kernelspec": {
   "display_name": "Python 3",
   "language": "python",
   "name": "python3"
  },
  "language_info": {
   "codemirror_mode": {
    "name": "ipython",
    "version": 3
   },
   "file_extension": ".py",
   "mimetype": "text/x-python",
   "name": "python",
   "nbconvert_exporter": "python",
   "pygments_lexer": "ipython3",
   "version": "3.7.4"
  }
 },
 "nbformat": 4,
 "nbformat_minor": 1
}
