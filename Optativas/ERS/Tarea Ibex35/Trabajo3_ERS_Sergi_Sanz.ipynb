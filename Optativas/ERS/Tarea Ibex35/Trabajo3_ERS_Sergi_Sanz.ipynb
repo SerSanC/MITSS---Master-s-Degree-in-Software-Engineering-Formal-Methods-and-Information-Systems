{
 "cells": [
  {
   "cell_type": "markdown",
   "metadata": {},
   "source": [
    "### Realizar un dendograma entre los valores del fichero de ejemplo en el año 2019 y 2018 según su comportamiento durante ese periodo.\n",
    "\n",
    "Para ello se debe considerar la matriz distancias calculadas considerando el valor de cierre de cada día .\n",
    "\n",
    "He subido un fichero en la carpeta T2 (ibex_2020.py) que os puede servir de base."
   ]
  },
  {
   "cell_type": "markdown",
   "metadata": {},
   "source": [
    "###### Primero será necesario cargar el programa ibex_2020.py"
   ]
  },
  {
   "cell_type": "code",
   "execution_count": 1,
   "metadata": {},
   "outputs": [
    {
     "name": "stdout",
     "output_type": "stream",
     "text": [
      "[*********************100%***********************]  1 of 1 completed\n",
      "[*********************100%***********************]  1 of 1 completed\n",
      "[*********************100%***********************]  1 of 1 completed\n",
      "[*********************100%***********************]  1 of 1 completed\n",
      "[*********************100%***********************]  1 of 1 completed\n",
      "[*********************100%***********************]  1 of 1 completed\n",
      "[*********************100%***********************]  1 of 1 completed\n",
      "[*********************100%***********************]  1 of 1 completed\n",
      "[*********************100%***********************]  1 of 1 completed\n",
      "[*********************100%***********************]  1 of 1 completed\n",
      "[*********************100%***********************]  1 of 1 completed\n",
      "[*********************100%***********************]  1 of 1 completed\n",
      "[*********************100%***********************]  1 of 1 completed\n"
     ]
    }
   ],
   "source": [
    "import numpy as np\n",
    "from matplotlib import pyplot as plt\n",
    "from scipy.cluster.hierarchy import dendrogram\n",
    "from sklearn.datasets import load_iris\n",
    "from sklearn.cluster import AgglomerativeClustering\n",
    "\n",
    "import datetime\n",
    "import pandas_datareader.data as web\n",
    "import yfinance as yf\n",
    "lista_val=[\"MSFT\",\"AAPL\",\"T\",\"GOOGL\", \"HPQ\",\"VZ\",\"CVX\",\"ORAN\",\"VOD\",\"JPM\",\"BBVA\",\"RBS\",\"BK\"]\n",
    "\n",
    "def lista_google(dstart,dend):\n",
    "    listita = []\n",
    "    for i in range(0, len (lista_val)):\n",
    "        f = yf.download(lista_val[i], dstart,dend)\n",
    "        listita.append(f.iloc[:]['Close'])\n",
    "    return listita\n",
    "lis=lista_google(datetime.datetime(2018, 1, 1),datetime.datetime(2019, 12, 31))"
   ]
  },
  {
   "cell_type": "markdown",
   "metadata": {},
   "source": [
    "#### Ahora se procede a realizar el ejercicio, donde se pretende realizar un dendograma con el valor de las empresas más similares entre ellas (que tengan la misma tendencia) "
   ]
  },
  {
   "cell_type": "code",
   "execution_count": 2,
   "metadata": {},
   "outputs": [],
   "source": [
    "np.divide(lis[0], np.max(lis[0])).tolist() \n",
    "norm = [] # lista donde almacenamos los datos normalizados\n",
    "for x in lis:\n",
    "    norm.append(np.divide(x, np.max(x)).tolist())\n",
    "\n",
    "for j in range(1,len(norm[0])):\n",
    "    norm[0][j]/norm[0][j-1]\n",
    "\n",
    "#variacion producida en los datos\n",
    "var = []\n",
    "for i in range(0, len(norm)):\n",
    "    variacion = []\n",
    "    for j in range(1,len(norm[i])):\n",
    "        variacion.append(norm[i][j]/norm[i][j-1])\n",
    "    var.append(variacion)\n",
    "\n",
    "\n",
    "    \n",
    "X = np.array(var)\n"
   ]
  },
  {
   "cell_type": "markdown",
   "metadata": {},
   "source": [
    "##### Posterormente se ha definido el dendograma siguiendo el siguiente ejemplo: https://scikit-learn.org/stable/auto_examples/cluster/plot_agglomerative_dendrogram.html"
   ]
  },
  {
   "cell_type": "code",
   "execution_count": 3,
   "metadata": {},
   "outputs": [
    {
     "data": {
      "image/png": "[encoded data removed]",
      "text/plain": [
       "<Figure size 720x720 with 1 Axes>"
      ]
     },
     "metadata": {
      "needs_background": "light"
     },
     "output_type": "display_data"
    }
   ],
   "source": [
    "def plot_dendrogram(model, **kwargs):\n",
    "    # Create linkage matrix and then plot the dendrogram\n",
    "    # create the counts of samples under each node\n",
    "    counts = np.zeros(model.children_.shape[0])\n",
    "    n_samples = len(model.labels_)\n",
    "    for i, merge in enumerate(model.children_):\n",
    "        current_count = 0\n",
    "        for child_idx in merge:\n",
    "            if child_idx < n_samples:\n",
    "                current_count += 1  # leaf node\n",
    "            else:\n",
    "                current_count += counts[child_idx - n_samples]\n",
    "        counts[i] = current_count\n",
    "\n",
    "    linkage_matrix = np.column_stack([model.children_, model.distances_,\n",
    "                                      counts]).astype(float)\n",
    "\n",
    "    # Plot the corresponding dendrogram\n",
    "    dendrogram(linkage_matrix, **kwargs)\n",
    "\n",
    "plt.rcParams['figure.figsize'] = [10, 10] #modifico el tamaño por que por defecto sale muy pequeño\n",
    "# setting distance_threshold=0 ensures we compute the full tree.\n",
    "model = AgglomerativeClustering(distance_threshold=0, n_clusters=None)\n",
    "\n",
    "model = model.fit(X)\n",
    "plt.title('Empresas con cotización similar')\n",
    "# plot the top three levels of the dendrogram\n",
    "plot_dendrogram(model, truncate_mode='level',labels=lista_val)\n",
    "plt.xlabel(\"Índice de compañias\")\n",
    "plt.show()"
   ]
  },
  {
   "cell_type": "code",
   "execution_count": null,
   "metadata": {},
   "outputs": [],
   "source": []
  },
  {
   "cell_type": "code",
   "execution_count": null,
   "metadata": {},
   "outputs": [],
   "source": []
  },
  {
   "cell_type": "code",
   "execution_count": null,
   "metadata": {},
   "outputs": [],
   "source": []
  }
 ],
 "metadata": {
  "kernelspec": {
   "display_name": "Python 3",
   "language": "python",
   "name": "python3"
  },
  "language_info": {
   "codemirror_mode": {
    "name": "ipython",
    "version": 3
   },
   "file_extension": ".py",
   "mimetype": "text/x-python",
   "name": "python",
   "nbconvert_exporter": "python",
   "pygments_lexer": "ipython3",
   "version": "3.7.4"
  }
 },
 "nbformat": 4,
 "nbformat_minor": 2
}
